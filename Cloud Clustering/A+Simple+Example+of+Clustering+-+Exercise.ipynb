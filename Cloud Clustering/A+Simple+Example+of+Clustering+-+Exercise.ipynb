{
 "cells": [
  {
   "cell_type": "markdown",
   "metadata": {},
   "source": [
    "# A Simple Example of Clustering "
   ]
  },
  {
   "cell_type": "markdown",
   "metadata": {},
   "source": [
    "You are given much more country data. Using the same methodology as the one in the lecture, group all the countries in 2 clusters. \n",
    "\n",
    "Try with other numbers of clusters and see if they match your expectations. Maybe 7 is going to be a cool one!\n",
    "\n",
    "Plot the data using the <i> c </i> parameter to separate the data by the clusters we defined.  \n",
    "\n",
    "<i> Note: c stands for color <i>"
   ]
  },
  {
   "cell_type": "markdown",
   "metadata": {},
   "source": [
    "## Import the relevant libraries"
   ]
  },
  {
   "cell_type": "code",
   "execution_count": 2,
   "metadata": {},
   "outputs": [],
   "source": [
    "import pandas as pd\n",
    "import numpy as np\n",
    "import matplotlib.pyplot as plt\n",
    "import seaborn as sns\n",
    "sns.set()\n",
    "from sklearn.cluster import KMeans"
   ]
  },
  {
   "cell_type": "markdown",
   "metadata": {},
   "source": [
    "## Load the data"
   ]
  },
  {
   "cell_type": "markdown",
   "metadata": {},
   "source": [
    "Load data from the csv file: <i> 'Countries.csv'</i>.\n"
   ]
  },
  {
   "cell_type": "code",
   "execution_count": 6,
   "metadata": {
    "scrolled": false
   },
   "outputs": [
    {
     "data": {
      "text/html": [
       "<div>\n",
       "<style scoped>\n",
       "    .dataframe tbody tr th:only-of-type {\n",
       "        vertical-align: middle;\n",
       "    }\n",
       "\n",
       "    .dataframe tbody tr th {\n",
       "        vertical-align: top;\n",
       "    }\n",
       "\n",
       "    .dataframe thead th {\n",
       "        text-align: right;\n",
       "    }\n",
       "</style>\n",
       "<table border=\"1\" class=\"dataframe\">\n",
       "  <thead>\n",
       "    <tr style=\"text-align: right;\">\n",
       "      <th></th>\n",
       "      <th>name</th>\n",
       "      <th>Longitude</th>\n",
       "      <th>Latitude</th>\n",
       "    </tr>\n",
       "  </thead>\n",
       "  <tbody>\n",
       "    <tr>\n",
       "      <th>0</th>\n",
       "      <td>Aruba</td>\n",
       "      <td>-69.982677</td>\n",
       "      <td>12.520880</td>\n",
       "    </tr>\n",
       "    <tr>\n",
       "      <th>1</th>\n",
       "      <td>Afghanistan</td>\n",
       "      <td>66.004734</td>\n",
       "      <td>33.835231</td>\n",
       "    </tr>\n",
       "    <tr>\n",
       "      <th>2</th>\n",
       "      <td>Angola</td>\n",
       "      <td>17.537368</td>\n",
       "      <td>-12.293361</td>\n",
       "    </tr>\n",
       "    <tr>\n",
       "      <th>3</th>\n",
       "      <td>Anguilla</td>\n",
       "      <td>-63.064989</td>\n",
       "      <td>18.223959</td>\n",
       "    </tr>\n",
       "    <tr>\n",
       "      <th>4</th>\n",
       "      <td>Albania</td>\n",
       "      <td>20.049834</td>\n",
       "      <td>41.142450</td>\n",
       "    </tr>\n",
       "    <tr>\n",
       "      <th>...</th>\n",
       "      <td>...</td>\n",
       "      <td>...</td>\n",
       "      <td>...</td>\n",
       "    </tr>\n",
       "    <tr>\n",
       "      <th>236</th>\n",
       "      <td>Samoa</td>\n",
       "      <td>-172.164851</td>\n",
       "      <td>-13.753243</td>\n",
       "    </tr>\n",
       "    <tr>\n",
       "      <th>237</th>\n",
       "      <td>Yemen</td>\n",
       "      <td>47.586762</td>\n",
       "      <td>15.909280</td>\n",
       "    </tr>\n",
       "    <tr>\n",
       "      <th>238</th>\n",
       "      <td>South Africa</td>\n",
       "      <td>25.083901</td>\n",
       "      <td>-29.000341</td>\n",
       "    </tr>\n",
       "    <tr>\n",
       "      <th>239</th>\n",
       "      <td>Zambia</td>\n",
       "      <td>27.774759</td>\n",
       "      <td>-13.458242</td>\n",
       "    </tr>\n",
       "    <tr>\n",
       "      <th>240</th>\n",
       "      <td>Zimbabwe</td>\n",
       "      <td>29.851441</td>\n",
       "      <td>-19.004204</td>\n",
       "    </tr>\n",
       "  </tbody>\n",
       "</table>\n",
       "<p>241 rows × 3 columns</p>\n",
       "</div>"
      ],
      "text/plain": [
       "             name   Longitude   Latitude\n",
       "0           Aruba  -69.982677  12.520880\n",
       "1     Afghanistan   66.004734  33.835231\n",
       "2          Angola   17.537368 -12.293361\n",
       "3        Anguilla  -63.064989  18.223959\n",
       "4         Albania   20.049834  41.142450\n",
       "..            ...         ...        ...\n",
       "236         Samoa -172.164851 -13.753243\n",
       "237         Yemen   47.586762  15.909280\n",
       "238  South Africa   25.083901 -29.000341\n",
       "239        Zambia   27.774759 -13.458242\n",
       "240      Zimbabwe   29.851441 -19.004204\n",
       "\n",
       "[241 rows x 3 columns]"
      ]
     },
     "execution_count": 6,
     "metadata": {},
     "output_type": "execute_result"
    }
   ],
   "source": [
    "raw_data = pd.read_csv('Countries-exercise.csv')\n",
    "raw_data"
   ]
  },
  {
   "cell_type": "markdown",
   "metadata": {},
   "source": [
    "## Created a copy of data"
   ]
  },
  {
   "cell_type": "code",
   "execution_count": 10,
   "metadata": {},
   "outputs": [],
   "source": [
    "data = raw_data.copy()"
   ]
  },
  {
   "cell_type": "markdown",
   "metadata": {},
   "source": [
    "## Plot the data"
   ]
  },
  {
   "cell_type": "markdown",
   "metadata": {},
   "source": [
    "Plot the <i>'Longtitude'</i> and <i>'Latitude'</i> columns. "
   ]
  },
  {
   "cell_type": "code",
   "execution_count": 11,
   "metadata": {},
   "outputs": [
    {
     "data": {
      "image/png": "[encoded data removed]",
      "text/plain": [
       "<Figure size 640x480 with 1 Axes>"
      ]
     },
     "metadata": {},
     "output_type": "display_data"
    }
   ],
   "source": [
    "plt.scatter(data['Longitude'], data['Latitude'])\n",
    "plt.xlim(-180,180)\n",
    "plt.ylim(-90, 90)\n",
    "plt.show()"
   ]
  },
  {
   "cell_type": "markdown",
   "metadata": {},
   "source": [
    "## Select the features"
   ]
  },
  {
   "cell_type": "markdown",
   "metadata": {},
   "source": [
    "Create a copy of that data and remove all parameters apart from <i>Longitude</i> and <i>Latitude</i>."
   ]
  },
  {
   "cell_type": "code",
   "execution_count": 13,
   "metadata": {},
   "outputs": [
    {
     "data": {
      "text/html": [
       "<div>\n",
       "<style scoped>\n",
       "    .dataframe tbody tr th:only-of-type {\n",
       "        vertical-align: middle;\n",
       "    }\n",
       "\n",
       "    .dataframe tbody tr th {\n",
       "        vertical-align: top;\n",
       "    }\n",
       "\n",
       "    .dataframe thead th {\n",
       "        text-align: right;\n",
       "    }\n",
       "</style>\n",
       "<table border=\"1\" class=\"dataframe\">\n",
       "  <thead>\n",
       "    <tr style=\"text-align: right;\">\n",
       "      <th></th>\n",
       "      <th>Longitude</th>\n",
       "      <th>Latitude</th>\n",
       "    </tr>\n",
       "  </thead>\n",
       "  <tbody>\n",
       "    <tr>\n",
       "      <th>0</th>\n",
       "      <td>-69.982677</td>\n",
       "      <td>12.520880</td>\n",
       "    </tr>\n",
       "    <tr>\n",
       "      <th>1</th>\n",
       "      <td>66.004734</td>\n",
       "      <td>33.835231</td>\n",
       "    </tr>\n",
       "    <tr>\n",
       "      <th>2</th>\n",
       "      <td>17.537368</td>\n",
       "      <td>-12.293361</td>\n",
       "    </tr>\n",
       "    <tr>\n",
       "      <th>3</th>\n",
       "      <td>-63.064989</td>\n",
       "      <td>18.223959</td>\n",
       "    </tr>\n",
       "    <tr>\n",
       "      <th>4</th>\n",
       "      <td>20.049834</td>\n",
       "      <td>41.142450</td>\n",
       "    </tr>\n",
       "    <tr>\n",
       "      <th>...</th>\n",
       "      <td>...</td>\n",
       "      <td>...</td>\n",
       "    </tr>\n",
       "    <tr>\n",
       "      <th>236</th>\n",
       "      <td>-172.164851</td>\n",
       "      <td>-13.753243</td>\n",
       "    </tr>\n",
       "    <tr>\n",
       "      <th>237</th>\n",
       "      <td>47.586762</td>\n",
       "      <td>15.909280</td>\n",
       "    </tr>\n",
       "    <tr>\n",
       "      <th>238</th>\n",
       "      <td>25.083901</td>\n",
       "      <td>-29.000341</td>\n",
       "    </tr>\n",
       "    <tr>\n",
       "      <th>239</th>\n",
       "      <td>27.774759</td>\n",
       "      <td>-13.458242</td>\n",
       "    </tr>\n",
       "    <tr>\n",
       "      <th>240</th>\n",
       "      <td>29.851441</td>\n",
       "      <td>-19.004204</td>\n",
       "    </tr>\n",
       "  </tbody>\n",
       "</table>\n",
       "<p>241 rows × 2 columns</p>\n",
       "</div>"
      ],
      "text/plain": [
       "      Longitude   Latitude\n",
       "0    -69.982677  12.520880\n",
       "1     66.004734  33.835231\n",
       "2     17.537368 -12.293361\n",
       "3    -63.064989  18.223959\n",
       "4     20.049834  41.142450\n",
       "..          ...        ...\n",
       "236 -172.164851 -13.753243\n",
       "237   47.586762  15.909280\n",
       "238   25.083901 -29.000341\n",
       "239   27.774759 -13.458242\n",
       "240   29.851441 -19.004204\n",
       "\n",
       "[241 rows x 2 columns]"
      ]
     },
     "execution_count": 13,
     "metadata": {},
     "output_type": "execute_result"
    }
   ],
   "source": [
    "x = data.iloc[:,1:3]\n",
    "x"
   ]
  },
  {
   "cell_type": "markdown",
   "metadata": {},
   "source": [
    "## Clustering"
   ]
  },
  {
   "cell_type": "markdown",
   "metadata": {},
   "source": [
    "Assume there are only two clusters. "
   ]
  },
  {
   "cell_type": "code",
   "execution_count": 24,
   "metadata": {},
   "outputs": [],
   "source": [
    "kmeans = KMeans(8)"
   ]
  },
  {
   "cell_type": "code",
   "execution_count": 25,
   "metadata": {},
   "outputs": [
    {
     "data": {
      "text/plain": [
       "KMeans()"
      ]
     },
     "execution_count": 25,
     "metadata": {},
     "output_type": "execute_result"
    }
   ],
   "source": [
    "kmeans.fit(x)"
   ]
  },
  {
   "cell_type": "markdown",
   "metadata": {},
   "source": [
    "### Clustering Resutls"
   ]
  },
  {
   "cell_type": "code",
   "execution_count": 26,
   "metadata": {},
   "outputs": [
    {
     "data": {
      "text/plain": [
       "array([1, 7, 3, 1, 2, 2, 2, 7, 1, 7, 4, 3, 6, 3, 1, 6, 2, 7, 3, 2, 5, 5,\n",
       "       0, 2, 7, 1, 1, 2, 1, 2, 1, 1, 1, 1, 1, 0, 0, 3, 5, 2, 1, 0, 5, 5,\n",
       "       3, 5, 4, 1, 3, 5, 1, 1, 1, 1, 7, 7, 2, 2, 7, 1, 2, 1, 5, 1, 7, 7,\n",
       "       2, 2, 7, 2, 6, 1, 2, 2, 6, 5, 2, 7, 2, 5, 5, 5, 5, 5, 2, 1, 2, 1,\n",
       "       6, 1, 0, 3, 1, 2, 1, 2, 0, 2, 0, 0, 3, 2, 7, 7, 2, 7, 2, 1, 2, 7,\n",
       "       0, 7, 7, 3, 7, 0, 1, 1, 0, 2, 7, 0, 7, 5, 2, 1, 2, 0, 3, 2, 2, 2,\n",
       "       0, 1, 5, 2, 2, 3, 7, 1, 6, 2, 5, 2, 0, 2, 0, 6, 3, 5, 1, 3, 3, 0,\n",
       "       3, 6, 5, 6, 5, 1, 4, 2, 2, 0, 6, 6, 7, 7, 1, 4, 1, 0, 6, 6, 2, 1,\n",
       "       0, 2, 1, 7, 4, 7, 2, 0, 3, 5, 7, 7, 3, 5, 0, 1, 5, 6, 5, 1, 2, 7,\n",
       "       3, 1, 2, 5, 1, 2, 2, 2, 3, 1, 3, 7, 1, 5, 5, 0, 7, 7, 6, 4, 1, 2,\n",
       "       7, 0, 3, 3, 2, 1, 1, 7, 2, 1, 1, 1, 1, 0, 6, 4, 4, 7, 3, 3, 3],\n",
       "      dtype=int32)"
      ]
     },
     "execution_count": 26,
     "metadata": {},
     "output_type": "execute_result"
    }
   ],
   "source": [
    "identified_clusters = kmeans.fit_predict(x)\n",
    "identified_clusters"
   ]
  },
  {
   "cell_type": "code",
   "execution_count": 27,
   "metadata": {},
   "outputs": [
    {
     "data": {
      "text/html": [
       "<div>\n",
       "<style scoped>\n",
       "    .dataframe tbody tr th:only-of-type {\n",
       "        vertical-align: middle;\n",
       "    }\n",
       "\n",
       "    .dataframe tbody tr th {\n",
       "        vertical-align: top;\n",
       "    }\n",
       "\n",
       "    .dataframe thead th {\n",
       "        text-align: right;\n",
       "    }\n",
       "</style>\n",
       "<table border=\"1\" class=\"dataframe\">\n",
       "  <thead>\n",
       "    <tr style=\"text-align: right;\">\n",
       "      <th></th>\n",
       "      <th>name</th>\n",
       "      <th>Longitude</th>\n",
       "      <th>Latitude</th>\n",
       "      <th>Cluster</th>\n",
       "    </tr>\n",
       "  </thead>\n",
       "  <tbody>\n",
       "    <tr>\n",
       "      <th>0</th>\n",
       "      <td>Aruba</td>\n",
       "      <td>-69.982677</td>\n",
       "      <td>12.520880</td>\n",
       "      <td>1</td>\n",
       "    </tr>\n",
       "    <tr>\n",
       "      <th>1</th>\n",
       "      <td>Afghanistan</td>\n",
       "      <td>66.004734</td>\n",
       "      <td>33.835231</td>\n",
       "      <td>7</td>\n",
       "    </tr>\n",
       "    <tr>\n",
       "      <th>2</th>\n",
       "      <td>Angola</td>\n",
       "      <td>17.537368</td>\n",
       "      <td>-12.293361</td>\n",
       "      <td>3</td>\n",
       "    </tr>\n",
       "    <tr>\n",
       "      <th>3</th>\n",
       "      <td>Anguilla</td>\n",
       "      <td>-63.064989</td>\n",
       "      <td>18.223959</td>\n",
       "      <td>1</td>\n",
       "    </tr>\n",
       "    <tr>\n",
       "      <th>4</th>\n",
       "      <td>Albania</td>\n",
       "      <td>20.049834</td>\n",
       "      <td>41.142450</td>\n",
       "      <td>2</td>\n",
       "    </tr>\n",
       "    <tr>\n",
       "      <th>...</th>\n",
       "      <td>...</td>\n",
       "      <td>...</td>\n",
       "      <td>...</td>\n",
       "      <td>...</td>\n",
       "    </tr>\n",
       "    <tr>\n",
       "      <th>236</th>\n",
       "      <td>Samoa</td>\n",
       "      <td>-172.164851</td>\n",
       "      <td>-13.753243</td>\n",
       "      <td>4</td>\n",
       "    </tr>\n",
       "    <tr>\n",
       "      <th>237</th>\n",
       "      <td>Yemen</td>\n",
       "      <td>47.586762</td>\n",
       "      <td>15.909280</td>\n",
       "      <td>7</td>\n",
       "    </tr>\n",
       "    <tr>\n",
       "      <th>238</th>\n",
       "      <td>South Africa</td>\n",
       "      <td>25.083901</td>\n",
       "      <td>-29.000341</td>\n",
       "      <td>3</td>\n",
       "    </tr>\n",
       "    <tr>\n",
       "      <th>239</th>\n",
       "      <td>Zambia</td>\n",
       "      <td>27.774759</td>\n",
       "      <td>-13.458242</td>\n",
       "      <td>3</td>\n",
       "    </tr>\n",
       "    <tr>\n",
       "      <th>240</th>\n",
       "      <td>Zimbabwe</td>\n",
       "      <td>29.851441</td>\n",
       "      <td>-19.004204</td>\n",
       "      <td>3</td>\n",
       "    </tr>\n",
       "  </tbody>\n",
       "</table>\n",
       "<p>241 rows × 4 columns</p>\n",
       "</div>"
      ],
      "text/plain": [
       "             name   Longitude   Latitude  Cluster\n",
       "0           Aruba  -69.982677  12.520880        1\n",
       "1     Afghanistan   66.004734  33.835231        7\n",
       "2          Angola   17.537368 -12.293361        3\n",
       "3        Anguilla  -63.064989  18.223959        1\n",
       "4         Albania   20.049834  41.142450        2\n",
       "..            ...         ...        ...      ...\n",
       "236         Samoa -172.164851 -13.753243        4\n",
       "237         Yemen   47.586762  15.909280        7\n",
       "238  South Africa   25.083901 -29.000341        3\n",
       "239        Zambia   27.774759 -13.458242        3\n",
       "240      Zimbabwe   29.851441 -19.004204        3\n",
       "\n",
       "[241 rows x 4 columns]"
      ]
     },
     "execution_count": 27,
     "metadata": {},
     "output_type": "execute_result"
    }
   ],
   "source": [
    "data_with_clusters = data.copy()\n",
    "data_with_clusters['Cluster'] = identified_clusters\n",
    "data_with_clusters"
   ]
  },
  {
   "cell_type": "markdown",
   "metadata": {},
   "source": [
    "Did you remember to use the <i> c </i> parameter to separate the data by the clusters we defined?"
   ]
  },
  {
   "cell_type": "code",
   "execution_count": 28,
   "metadata": {},
   "outputs": [
    {
     "data": {
      "image/png": "[encoded data removed]",
      "text/plain": [
       "<Figure size 640x480 with 1 Axes>"
      ]
     },
     "metadata": {},
     "output_type": "display_data"
    }
   ],
   "source": [
    "plt.scatter(data['Longitude'], data['Latitude'],c=data_with_clusters['Cluster'], cmap = 'rainbow')\n",
    "plt.xlim(-180,180)\n",
    "plt.ylim(-90, 90)\n",
    "plt.show()"
   ]
  },
  {
   "cell_type": "markdown",
   "metadata": {},
   "source": [
    "If you haven't, go back and play around with the number of clusters. \n",
    "\n",
    "Try 3, 7 and 8 and see if the results match your expectations!"
   ]
  },
  {
   "cell_type": "code",
   "execution_count": null,
   "metadata": {},
   "outputs": [],
   "source": []
  }
 ],
 "metadata": {
  "kernelspec": {
   "display_name": "Python 3 (ipykernel)",
   "language": "python",
   "name": "python3"
  },
  "language_info": {
   "codemirror_mode": {
    "name": "ipython",
    "version": 3
   },
   "file_extension": ".py",
   "mimetype": "text/x-python",
   "name": "python",
   "nbconvert_exporter": "python",
   "pygments_lexer": "ipython3",
   "version": "3.9.13"
  }
 },
 "nbformat": 4,
 "nbformat_minor": 2
}
